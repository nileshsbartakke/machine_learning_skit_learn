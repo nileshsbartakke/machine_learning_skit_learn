{
 "cells": [
  {
   "cell_type": "raw",
   "metadata": {},
   "source": [
    "#Python Practice COde"
   ]
  },
  {
   "cell_type": "code",
   "execution_count": 42,
   "metadata": {},
   "outputs": [
    {
     "name": "stdout",
     "output_type": "stream",
     "text": [
      "Max number 7\n"
     ]
    }
   ],
   "source": [
    "#1.Python program to find largest number in a list\n",
    "list1=[1,2,1,3,4,4,5,6,7]\n",
    "print(\"Max number\",max(list1))"
   ]
  },
  {
   "cell_type": "code",
   "execution_count": 8,
   "metadata": {},
   "outputs": [
    {
     "name": "stdout",
     "output_type": "stream",
     "text": [
      "Max Number 7\n"
     ]
    }
   ],
   "source": [
    "max1=list1[0]\n",
    "for i in list1:\n",
    "    if i > max1:\n",
    "        max1=i\n",
    "print(\"Max Number\",max1)    "
   ]
  },
  {
   "cell_type": "code",
   "execution_count": 9,
   "metadata": {},
   "outputs": [
    {
     "name": "stdout",
     "output_type": "stream",
     "text": [
      "6\n"
     ]
    }
   ],
   "source": [
    "#2.Python program to find second largest number in a list With out loop Removeing Duplicate Element\n",
    "set1=set(list1)\n",
    "set1.remove(max(set1))\n",
    "print(max(set1))"
   ]
  },
  {
   "cell_type": "code",
   "execution_count": 10,
   "metadata": {},
   "outputs": [
    {
     "name": "stdout",
     "output_type": "stream",
     "text": [
      "6\n"
     ]
    }
   ],
   "source": [
    "list1.sort()\n",
    "list1.remove(max(list1))\n",
    "print(max(list1))"
   ]
  },
  {
   "cell_type": "code",
   "execution_count": 20,
   "metadata": {},
   "outputs": [
    {
     "name": "stdout",
     "output_type": "stream",
     "text": [
      "[1, 1, 2, 3, 4, 4, 5, 6]\n",
      "Enter N :5\n"
     ]
    },
    {
     "data": {
      "text/plain": [
       "[3, 4, 4, 5, 6]"
      ]
     },
     "execution_count": 20,
     "metadata": {},
     "output_type": "execute_result"
    }
   ],
   "source": [
    "#3.Python program to find N largest elements from a list\n",
    "print(list1)\n",
    "num=int(input(\"Enter N :\"))\n",
    "list1.sort()\n",
    "list1[-num:]"
   ]
  },
  {
   "cell_type": "code",
   "execution_count": 22,
   "metadata": {},
   "outputs": [
    {
     "name": "stdout",
     "output_type": "stream",
     "text": [
      "[1, 1, 2, 3, 4, 4, 5, 6]\n",
      "26\n"
     ]
    }
   ],
   "source": [
    "#4.Python program to find sum of elements in list\n",
    "print(list1)\n",
    "print(sum(list1))"
   ]
  },
  {
   "cell_type": "code",
   "execution_count": 44,
   "metadata": {},
   "outputs": [
    {
     "name": "stdout",
     "output_type": "stream",
     "text": [
      "33\n"
     ]
    }
   ],
   "source": [
    "sum=0\n",
    "for i in list1:\n",
    "    sum=sum+i\n",
    "print(sum)"
   ]
  },
  {
   "cell_type": "code",
   "execution_count": 43,
   "metadata": {},
   "outputs": [
    {
     "name": "stdout",
     "output_type": "stream",
     "text": [
      "[1, 2, 1, 3, 4, 4, 5, 6, 7]\n",
      "33\n"
     ]
    }
   ],
   "source": [
    "#Recurive Way\n",
    "print(list1)\n",
    "def rec_way(list,num):\n",
    "    if (num == 0):\n",
    "        return 0\n",
    "    else:\n",
    "        return list[num-1] + rec_way(list,num-1)\n",
    "uu=rec_way(list1,len(list1))\n",
    "print(uu)"
   ]
  },
  {
   "cell_type": "code",
   "execution_count": 36,
   "metadata": {},
   "outputs": [
    {
     "name": "stdout",
     "output_type": "stream",
     "text": [
      "Sum of all elements in given list:  74\n"
     ]
    }
   ],
   "source": []
  },
  {
   "cell_type": "code",
   "execution_count": null,
   "metadata": {},
   "outputs": [],
   "source": []
  }
 ],
 "metadata": {
  "kernelspec": {
   "display_name": "Python 3",
   "language": "python",
   "name": "python3"
  },
  "language_info": {
   "codemirror_mode": {
    "name": "ipython",
    "version": 3
   },
   "file_extension": ".py",
   "mimetype": "text/x-python",
   "name": "python",
   "nbconvert_exporter": "python",
   "pygments_lexer": "ipython3",
   "version": "3.8.3"
  }
 },
 "nbformat": 4,
 "nbformat_minor": 4
}
